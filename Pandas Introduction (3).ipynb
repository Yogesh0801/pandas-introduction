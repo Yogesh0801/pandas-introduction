{
 "cells": [
  {
   "cell_type": "markdown",
   "id": "298fc69c",
   "metadata": {},
   "source": [
    "<h1>Intro to pandas</h1>"
   ]
  },
  {
   "cell_type": "markdown",
   "id": "3efdbe61",
   "metadata": {},
   "source": [
    "<p>When working with tabular data, such as data stored in spreadsheets or databases, pandas is the right tool for you. pandas will help you to explore, clean, and process your data. In pandas, a data table is called a DataFrame</p>"
   ]
  },
  {
   "attachments": {
    "image.png": {
     "image/png": "[encoded data removed]"
    }
   },
   "cell_type": "markdown",
   "id": "b84de29a",
   "metadata": {},
   "source": [
    "![image.png](attachment:image.png)"
   ]
  },
  {
   "cell_type": "markdown",
   "id": "654bbbb9",
   "metadata": {},
   "source": [
    "<h6>A DataFrame is a 2-dimensional data structure that can store data of different types (including characters, integers, floating point values, categorical data and more) in columns. It is similar to a spreadsheet, a SQL table or the data.frame in R</h6>"
   ]
  },
  {
   "cell_type": "markdown",
   "id": "7a2ed116",
   "metadata": {},
   "source": [
    "<p><span style='color:green;font-size:20px'>Load</span><span style='color:blue;font-size:20px'> Pandas</span></p>\n",
    "<p>To load the pandas package and start working with it, import the package. The community agreed alias for pandas is <code>pd</code>, so loading pandas as <code >pd</code> is assumed standard practice for all of the pandas documentation.</p>"
   ]
  },
  {
   "cell_type": "code",
   "execution_count": 3,
   "id": "6dca7553",
   "metadata": {},
   "outputs": [],
   "source": [
    "import pandas as pd"
   ]
  },
  {
   "cell_type": "markdown",
   "id": "8a931f07",
   "metadata": {},
   "source": [
    "<p><span style=\"font-weight:bold;font-size:20px;color:#100c08\">  Creating a</span> <span style='color:#a4c639;font-size:20px;font-weight:bold'>DataFrame.</span><p>"
   ]
  },
  {
   "cell_type": "code",
   "execution_count": 4,
   "id": "81568f2f",
   "metadata": {},
   "outputs": [
    {
     "data": {
      "text/html": [
       "<div>\n",
       "<style scoped>\n",
       "    .dataframe tbody tr th:only-of-type {\n",
       "        vertical-align: middle;\n",
       "    }\n",
       "\n",
       "    .dataframe tbody tr th {\n",
       "        vertical-align: top;\n",
       "    }\n",
       "\n",
       "    .dataframe thead th {\n",
       "        text-align: right;\n",
       "    }\n",
       "</style>\n",
       "<table border=\"1\" class=\"dataframe\">\n",
       "  <thead>\n",
       "    <tr style=\"text-align: right;\">\n",
       "      <th></th>\n",
       "      <th>Name</th>\n",
       "      <th>Age</th>\n",
       "      <th>Experience</th>\n",
       "    </tr>\n",
       "  </thead>\n",
       "  <tbody>\n",
       "    <tr>\n",
       "      <th>0</th>\n",
       "      <td>Simran</td>\n",
       "      <td>30</td>\n",
       "      <td>5</td>\n",
       "    </tr>\n",
       "    <tr>\n",
       "      <th>1</th>\n",
       "      <td>Rohit</td>\n",
       "      <td>40</td>\n",
       "      <td>8</td>\n",
       "    </tr>\n",
       "    <tr>\n",
       "      <th>2</th>\n",
       "      <td>Raghu</td>\n",
       "      <td>50</td>\n",
       "      <td>11</td>\n",
       "    </tr>\n",
       "    <tr>\n",
       "      <th>3</th>\n",
       "      <td>Saachi</td>\n",
       "      <td>60</td>\n",
       "      <td>14</td>\n",
       "    </tr>\n",
       "    <tr>\n",
       "      <th>4</th>\n",
       "      <td>Kavya</td>\n",
       "      <td>70</td>\n",
       "      <td>17</td>\n",
       "    </tr>\n",
       "  </tbody>\n",
       "</table>\n",
       "</div>"
      ],
      "text/plain": [
       "     Name  Age  Experience\n",
       "0  Simran   30           5\n",
       "1   Rohit   40           8\n",
       "2   Raghu   50          11\n",
       "3  Saachi   60          14\n",
       "4   Kavya   70          17"
      ]
     },
     "execution_count": 4,
     "metadata": {},
     "output_type": "execute_result"
    }
   ],
   "source": [
    "# Mnemonic name for DataFrame df \n",
    "\n",
    "df=pd.DataFrame({    \n",
    "    'Name':['Simran','Rohit','Raghu','Saachi','Kavya'],\n",
    "    \"Age\":[i for i in range(30,80,10)],\n",
    "    \"Experience\":[i for i in range(5,18,3)]})\n",
    "df"
   ]
  },
  {
   "cell_type": "markdown",
   "id": "efd038b1",
   "metadata": {},
   "source": [
    "<p>Notice that the inferred dtype is int64 & object.</p>"
   ]
  },
  {
   "cell_type": "code",
   "execution_count": 5,
   "id": "e892f484",
   "metadata": {},
   "outputs": [
    {
     "data": {
      "text/plain": [
       "Name          object\n",
       "Age            int64\n",
       "Experience     int64\n",
       "dtype: object"
      ]
     },
     "execution_count": 5,
     "metadata": {},
     "output_type": "execute_result"
    }
   ],
   "source": [
    "df.dtypes"
   ]
  },
  {
   "cell_type": "markdown",
   "id": "2376d90a",
   "metadata": {},
   "source": [
    "To enforce a single dtype:"
   ]
  },
  {
   "cell_type": "code",
   "execution_count": 6,
   "id": "8e9d0e67",
   "metadata": {},
   "outputs": [
    {
     "data": {
      "text/plain": [
       "Name          object\n",
       "Age           object\n",
       "Experience    object\n",
       "dtype: object"
      ]
     },
     "execution_count": 6,
     "metadata": {},
     "output_type": "execute_result"
    }
   ],
   "source": [
    "import numpy as np\n",
    "\n",
    "df=pd.DataFrame({    \n",
    "    'Name':['Simran','Rohit','Raghu','Saachi','Kavya'],\n",
    "    \"Age\":[i for i in range(30,80,10)],\n",
    "    \"Experience\":[i for i in range(5,18,3)]},dtype=np.str0)\n",
    "\n",
    "\n",
    "df.dtypes"
   ]
  },
  {
   "cell_type": "markdown",
   "id": "31bf8725",
   "metadata": {},
   "source": [
    "Constructing DataFrame from a dictionary including Series:"
   ]
  },
  {
   "cell_type": "code",
   "execution_count": 7,
   "id": "22b32bc6",
   "metadata": {},
   "outputs": [
    {
     "data": {
      "text/html": [
       "<div>\n",
       "<style scoped>\n",
       "    .dataframe tbody tr th:only-of-type {\n",
       "        vertical-align: middle;\n",
       "    }\n",
       "\n",
       "    .dataframe tbody tr th {\n",
       "        vertical-align: top;\n",
       "    }\n",
       "\n",
       "    .dataframe thead th {\n",
       "        text-align: right;\n",
       "    }\n",
       "</style>\n",
       "<table border=\"1\" class=\"dataframe\">\n",
       "  <thead>\n",
       "    <tr style=\"text-align: right;\">\n",
       "      <th></th>\n",
       "      <th>Name</th>\n",
       "      <th>Age</th>\n",
       "      <th>Experience</th>\n",
       "    </tr>\n",
       "  </thead>\n",
       "  <tbody>\n",
       "    <tr>\n",
       "      <th>0</th>\n",
       "      <td>Simran</td>\n",
       "      <td>30</td>\n",
       "      <td>5</td>\n",
       "    </tr>\n",
       "    <tr>\n",
       "      <th>1</th>\n",
       "      <td>Rohit</td>\n",
       "      <td>40</td>\n",
       "      <td>8</td>\n",
       "    </tr>\n",
       "    <tr>\n",
       "      <th>2</th>\n",
       "      <td>Raghu</td>\n",
       "      <td>50</td>\n",
       "      <td>11</td>\n",
       "    </tr>\n",
       "    <tr>\n",
       "      <th>3</th>\n",
       "      <td>Saachi</td>\n",
       "      <td>60</td>\n",
       "      <td>14</td>\n",
       "    </tr>\n",
       "    <tr>\n",
       "      <th>4</th>\n",
       "      <td>Kavya</td>\n",
       "      <td>70</td>\n",
       "      <td>17</td>\n",
       "    </tr>\n",
       "  </tbody>\n",
       "</table>\n",
       "</div>"
      ],
      "text/plain": [
       "     Name  Age  Experience\n",
       "0  Simran   30           5\n",
       "1   Rohit   40           8\n",
       "2   Raghu   50          11\n",
       "3  Saachi   60          14\n",
       "4   Kavya   70          17"
      ]
     },
     "execution_count": 7,
     "metadata": {},
     "output_type": "execute_result"
    }
   ],
   "source": [
    "df=pd.DataFrame({    \n",
    "    'Name':['Simran','Rohit','Raghu','Saachi','Kavya'],\n",
    "    \"Age\":[i for i in range(30,80,10)],\n",
    "    \"Experience\":pd.Series([i for i in range(5,18,3)])})\n",
    "\n",
    "df\n"
   ]
  },
  {
   "cell_type": "markdown",
   "id": "3c03476e",
   "metadata": {},
   "source": [
    "Constructing DataFrame from numpy ndarray:"
   ]
  },
  {
   "cell_type": "code",
   "execution_count": 11,
   "id": "81c0b248",
   "metadata": {},
   "outputs": [
    {
     "name": "stdout",
     "output_type": "stream",
     "text": [
      "Collecting random-word\n",
      "  Downloading Random_Word-1.0.11-py3-none-any.whl (1.2 MB)\n",
      "Requirement already satisfied: pyyaml in c:\\users\\hp\\anaconda3\\lib\\site-packages (from random-word) (6.0)\n",
      "Requirement already satisfied: requests in c:\\users\\hp\\anaconda3\\lib\\site-packages (from random-word) (2.26.0)\n",
      "Requirement already satisfied: pytest in c:\\users\\hp\\anaconda3\\lib\\site-packages (from random-word) (6.2.4)\n",
      "Requirement already satisfied: attrs>=19.2.0 in c:\\users\\hp\\anaconda3\\lib\\site-packages (from pytest->random-word) (21.2.0)\n",
      "Requirement already satisfied: iniconfig in c:\\users\\hp\\anaconda3\\lib\\site-packages (from pytest->random-word) (1.1.1)\n",
      "Requirement already satisfied: packaging in c:\\users\\hp\\anaconda3\\lib\\site-packages (from pytest->random-word) (21.0)\n",
      "Requirement already satisfied: pluggy<1.0.0a1,>=0.12 in c:\\users\\hp\\anaconda3\\lib\\site-packages (from pytest->random-word) (0.13.1)\n",
      "Requirement already satisfied: py>=1.8.2 in c:\\users\\hp\\anaconda3\\lib\\site-packages (from pytest->random-word) (1.10.0)\n",
      "Requirement already satisfied: toml in c:\\users\\hp\\anaconda3\\lib\\site-packages (from pytest->random-word) (0.10.2)\n",
      "Requirement already satisfied: atomicwrites>=1.0 in c:\\users\\hp\\anaconda3\\lib\\site-packages (from pytest->random-word) (1.4.0)\n",
      "Requirement already satisfied: colorama in c:\\users\\hp\\anaconda3\\lib\\site-packages (from pytest->random-word) (0.4.4)\n",
      "Requirement already satisfied: pyparsing>=2.0.2 in c:\\users\\hp\\anaconda3\\lib\\site-packages (from packaging->pytest->random-word) (3.0.4)\n",
      "Requirement already satisfied: urllib3<1.27,>=1.21.1 in c:\\users\\hp\\anaconda3\\lib\\site-packages (from requests->random-word) (1.26.7)\n",
      "Requirement already satisfied: charset-normalizer~=2.0.0 in c:\\users\\hp\\anaconda3\\lib\\site-packages (from requests->random-word) (2.0.4)\n",
      "Requirement already satisfied: certifi>=2017.4.17 in c:\\users\\hp\\anaconda3\\lib\\site-packages (from requests->random-word) (2021.10.8)\n",
      "Requirement already satisfied: idna<4,>=2.5 in c:\\users\\hp\\anaconda3\\lib\\site-packages (from requests->random-word) (3.2)\n",
      "Installing collected packages: random-word\n",
      "Successfully installed random-word-1.0.11\n",
      "Note: you may need to restart the kernel to use updated packages.\n"
     ]
    }
   ],
   "source": [
    "pip install random-word"
   ]
  },
  {
   "cell_type": "code",
   "execution_count": 12,
   "id": "dc731aca",
   "metadata": {},
   "outputs": [],
   "source": [
    "# Genrate Random column names\n",
    "from random_word import RandomWords\n",
    "\n"
   ]
  },
  {
   "cell_type": "code",
   "execution_count": 13,
   "id": "37b67205",
   "metadata": {},
   "outputs": [
    {
     "data": {
      "text/html": [
       "<div>\n",
       "<style scoped>\n",
       "    .dataframe tbody tr th:only-of-type {\n",
       "        vertical-align: middle;\n",
       "    }\n",
       "\n",
       "    .dataframe tbody tr th {\n",
       "        vertical-align: top;\n",
       "    }\n",
       "\n",
       "    .dataframe thead th {\n",
       "        text-align: right;\n",
       "    }\n",
       "</style>\n",
       "<table border=\"1\" class=\"dataframe\">\n",
       "  <thead>\n",
       "    <tr style=\"text-align: right;\">\n",
       "      <th></th>\n",
       "      <th>clypeola</th>\n",
       "      <th>afflictively</th>\n",
       "      <th>quadrisyllabic</th>\n",
       "      <th>oscinian</th>\n",
       "      <th>eudaemonistic</th>\n",
       "      <th>proagricultural</th>\n",
       "      <th>missingly</th>\n",
       "      <th>becuiba</th>\n",
       "      <th>oxbane</th>\n",
       "      <th>undesirableness</th>\n",
       "    </tr>\n",
       "  </thead>\n",
       "  <tbody>\n",
       "    <tr>\n",
       "      <th>0</th>\n",
       "      <td>508</td>\n",
       "      <td>260</td>\n",
       "      <td>49</td>\n",
       "      <td>222</td>\n",
       "      <td>963</td>\n",
       "      <td>615</td>\n",
       "      <td>659</td>\n",
       "      <td>589</td>\n",
       "      <td>846</td>\n",
       "      <td>733</td>\n",
       "    </tr>\n",
       "    <tr>\n",
       "      <th>1</th>\n",
       "      <td>961</td>\n",
       "      <td>345</td>\n",
       "      <td>355</td>\n",
       "      <td>726</td>\n",
       "      <td>991</td>\n",
       "      <td>838</td>\n",
       "      <td>858</td>\n",
       "      <td>255</td>\n",
       "      <td>41</td>\n",
       "      <td>620</td>\n",
       "    </tr>\n",
       "    <tr>\n",
       "      <th>2</th>\n",
       "      <td>577</td>\n",
       "      <td>155</td>\n",
       "      <td>625</td>\n",
       "      <td>779</td>\n",
       "      <td>892</td>\n",
       "      <td>307</td>\n",
       "      <td>117</td>\n",
       "      <td>32</td>\n",
       "      <td>312</td>\n",
       "      <td>773</td>\n",
       "    </tr>\n",
       "    <tr>\n",
       "      <th>3</th>\n",
       "      <td>840</td>\n",
       "      <td>261</td>\n",
       "      <td>181</td>\n",
       "      <td>558</td>\n",
       "      <td>350</td>\n",
       "      <td>839</td>\n",
       "      <td>506</td>\n",
       "      <td>99</td>\n",
       "      <td>59</td>\n",
       "      <td>611</td>\n",
       "    </tr>\n",
       "    <tr>\n",
       "      <th>4</th>\n",
       "      <td>469</td>\n",
       "      <td>3</td>\n",
       "      <td>912</td>\n",
       "      <td>907</td>\n",
       "      <td>970</td>\n",
       "      <td>733</td>\n",
       "      <td>146</td>\n",
       "      <td>685</td>\n",
       "      <td>599</td>\n",
       "      <td>135</td>\n",
       "    </tr>\n",
       "    <tr>\n",
       "      <th>5</th>\n",
       "      <td>707</td>\n",
       "      <td>400</td>\n",
       "      <td>236</td>\n",
       "      <td>248</td>\n",
       "      <td>79</td>\n",
       "      <td>133</td>\n",
       "      <td>490</td>\n",
       "      <td>519</td>\n",
       "      <td>969</td>\n",
       "      <td>864</td>\n",
       "    </tr>\n",
       "    <tr>\n",
       "      <th>6</th>\n",
       "      <td>40</td>\n",
       "      <td>199</td>\n",
       "      <td>147</td>\n",
       "      <td>458</td>\n",
       "      <td>102</td>\n",
       "      <td>306</td>\n",
       "      <td>373</td>\n",
       "      <td>940</td>\n",
       "      <td>759</td>\n",
       "      <td>731</td>\n",
       "    </tr>\n",
       "    <tr>\n",
       "      <th>7</th>\n",
       "      <td>748</td>\n",
       "      <td>3</td>\n",
       "      <td>749</td>\n",
       "      <td>41</td>\n",
       "      <td>516</td>\n",
       "      <td>180</td>\n",
       "      <td>138</td>\n",
       "      <td>429</td>\n",
       "      <td>661</td>\n",
       "      <td>385</td>\n",
       "    </tr>\n",
       "    <tr>\n",
       "      <th>8</th>\n",
       "      <td>283</td>\n",
       "      <td>750</td>\n",
       "      <td>197</td>\n",
       "      <td>98</td>\n",
       "      <td>606</td>\n",
       "      <td>438</td>\n",
       "      <td>753</td>\n",
       "      <td>535</td>\n",
       "      <td>980</td>\n",
       "      <td>994</td>\n",
       "    </tr>\n",
       "    <tr>\n",
       "      <th>9</th>\n",
       "      <td>912</td>\n",
       "      <td>26</td>\n",
       "      <td>701</td>\n",
       "      <td>420</td>\n",
       "      <td>358</td>\n",
       "      <td>582</td>\n",
       "      <td>150</td>\n",
       "      <td>244</td>\n",
       "      <td>164</td>\n",
       "      <td>816</td>\n",
       "    </tr>\n",
       "  </tbody>\n",
       "</table>\n",
       "</div>"
      ],
      "text/plain": [
       "   clypeola  afflictively  quadrisyllabic  oscinian  eudaemonistic  \\\n",
       "0       508           260              49       222            963   \n",
       "1       961           345             355       726            991   \n",
       "2       577           155             625       779            892   \n",
       "3       840           261             181       558            350   \n",
       "4       469             3             912       907            970   \n",
       "5       707           400             236       248             79   \n",
       "6        40           199             147       458            102   \n",
       "7       748             3             749        41            516   \n",
       "8       283           750             197        98            606   \n",
       "9       912            26             701       420            358   \n",
       "\n",
       "   proagricultural  missingly  becuiba  oxbane  undesirableness  \n",
       "0              615        659      589     846              733  \n",
       "1              838        858      255      41              620  \n",
       "2              307        117       32     312              773  \n",
       "3              839        506       99      59              611  \n",
       "4              733        146      685     599              135  \n",
       "5              133        490      519     969              864  \n",
       "6              306        373      940     759              731  \n",
       "7              180        138      429     661              385  \n",
       "8              438        753      535     980              994  \n",
       "9              582        150      244     164              816  "
      ]
     },
     "execution_count": 13,
     "metadata": {},
     "output_type": "execute_result"
    }
   ],
   "source": [
    "r = RandomWords()\n",
    "\n",
    "labels=[r.get_random_word() for i in range(10)]\n",
    "arr=np.random.randint(1,1000,100).reshape(10,10)\n",
    "df=pd.DataFrame(arr,columns=labels)\n",
    "\n",
    "df"
   ]
  },
  {
   "cell_type": "markdown",
   "id": "c0cca8af",
   "metadata": {},
   "source": [
    "<p style=\"font-size:25px;color:#f2f3f4\"><mark>Attributes</mark></p>"
   ]
  },
  {
   "cell_type": "markdown",
   "id": "7c673c8b",
   "metadata": {},
   "source": [
    "<p style=\";font-size:20px\">𝓓𝓪𝓽𝓪𝓕𝓻𝓪𝓶𝓮.<span style=\"color:\t#008000;font-size:20px\">𝓪𝓽</span></p>\n",
    "<p>Access a single value for a row/column label pair.</p>\n",
    "<p>Similar to <code><span>loc</span></code>, in that both provide label-based lookups. Use\n",
    "<code ><span >at</span></code> if you only need to get or set a single value in a DataFrame\n",
    "or Series.</p>"
   ]
  },
  {
   "cell_type": "code",
   "execution_count": 17,
   "id": "a49e411a",
   "metadata": {},
   "outputs": [
    {
     "data": {
      "text/plain": [
       "508"
      ]
     },
     "execution_count": 17,
     "metadata": {},
     "output_type": "execute_result"
    }
   ],
   "source": [
    "df.at[0,'clypeola']"
   ]
  },
  {
   "cell_type": "markdown",
   "id": "9a40b430",
   "metadata": {},
   "source": [
    "<p style=\";font-size:20px\">𝓓𝓪𝓽𝓪𝓕𝓻𝓪𝓶𝓮.<span style=\"color:\t#008000;font-size:20px\">𝓪𝔁𝓮𝓼</span></p>\n",
    "<p>Return a list representing the axes of the DataFrame.</p>\n",
    "<p>It has the row axis labels and column axis labels as the only members.\n",
    "They are returned in that order.</p>"
   ]
  },
  {
   "cell_type": "code",
   "execution_count": 18,
   "id": "63bd354b",
   "metadata": {},
   "outputs": [
    {
     "data": {
      "text/plain": [
       "[RangeIndex(start=0, stop=10, step=1),\n",
       " Index(['clypeola', 'afflictively', 'quadrisyllabic', 'oscinian',\n",
       "        'eudaemonistic', 'proagricultural', 'missingly', 'becuiba', 'oxbane',\n",
       "        'undesirableness'],\n",
       "       dtype='object')]"
      ]
     },
     "execution_count": 18,
     "metadata": {},
     "output_type": "execute_result"
    }
   ],
   "source": [
    "df.axes"
   ]
  },
  {
   "cell_type": "markdown",
   "id": "79efe6ac",
   "metadata": {},
   "source": [
    "<p style=\";font-size:20px\">𝓓𝓪𝓽𝓪𝓕𝓻𝓪𝓶𝓮.<span style=\"color:\t#008000;font-size:20px\">𝓬𝓸𝓵𝓾𝓶𝓷𝓼</span></p>\n",
    "<p>The column labels of the DataFrame.</p>"
   ]
  },
  {
   "cell_type": "code",
   "execution_count": 19,
   "id": "faefc4a4",
   "metadata": {},
   "outputs": [
    {
     "data": {
      "text/plain": [
       "Index(['clypeola', 'afflictively', 'quadrisyllabic', 'oscinian',\n",
       "       'eudaemonistic', 'proagricultural', 'missingly', 'becuiba', 'oxbane',\n",
       "       'undesirableness'],\n",
       "      dtype='object')"
      ]
     },
     "execution_count": 19,
     "metadata": {},
     "output_type": "execute_result"
    }
   ],
   "source": [
    "df.columns"
   ]
  },
  {
   "cell_type": "markdown",
   "id": "1112d812",
   "metadata": {},
   "source": [
    "<p style=\";font-size:20px\">𝓓𝓪𝓽𝓪𝓕𝓻𝓪𝓶𝓮.<span style=\"color:\t#008000;font-size:20px\">𝓭𝓽𝔂𝓹𝓮𝓼</span></p>\n",
    "<p>Return the dtypes in the DataFrame.</p>\n",
    "<p>This returns a Series with the data type of each column.\n",
    "The result’s index is the original DataFrame’s columns. Columns with mixed types are stored with the <code><span>object</span></code> dtype.</p>"
   ]
  },
  {
   "cell_type": "code",
   "execution_count": 32,
   "id": "70a072c5",
   "metadata": {},
   "outputs": [
    {
     "data": {
      "text/plain": [
       "clypeola           int32\n",
       "afflictively       int32\n",
       "quadrisyllabic     int32\n",
       "oscinian           int32\n",
       "eudaemonistic      int32\n",
       "proagricultural    int32\n",
       "missingly          int32\n",
       "becuiba            int32\n",
       "oxbane             int32\n",
       "undesirableness    int32\n",
       "dtype: object"
      ]
     },
     "execution_count": 32,
     "metadata": {},
     "output_type": "execute_result"
    }
   ],
   "source": [
    "df.dtypes"
   ]
  },
  {
   "cell_type": "markdown",
   "id": "9e7d41aa",
   "metadata": {},
   "source": [
    "<p style=\";font-size:20px\">𝓓𝓪𝓽𝓪𝓕𝓻𝓪𝓶𝓮.<span style=\"color:#008000;font-size:20px\">𝓮𝓶𝓹𝓽𝔂</span></p><hr>\n",
    "Checks if a Series/DataFrame is completely empty"
   ]
  },
  {
   "cell_type": "code",
   "execution_count": 21,
   "id": "cb9461a5",
   "metadata": {},
   "outputs": [
    {
     "data": {
      "text/plain": [
       "False"
      ]
     },
     "execution_count": 21,
     "metadata": {},
     "output_type": "execute_result"
    }
   ],
   "source": [
    "df.empty"
   ]
  },
  {
   "cell_type": "markdown",
   "id": "55dd43f5",
   "metadata": {},
   "source": [
    "<p style=\";font-size:20px\">𝓓𝓪𝓽𝓪𝓕𝓻𝓪𝓶𝓮.<span style=\"color:#008000;font-size:20px\">𝓲𝓪𝓽</span></p>\n",
    "<p>Access a single value for a row/column pair by integer position.</p>\n",
    "<p>Similar to <code class=\"docutils literal notranslate\"><span class=\"pre\">iloc</span></code>, in that both provide integer-based lookups. Use\n",
    "<code class=\"docutils literal notranslate\"><span class=\"pre\">iat</span></code> if you only need to get or set a single value in a DataFrame\n",
    "or Series.</p>"
   ]
  },
  {
   "cell_type": "code",
   "execution_count": 22,
   "id": "f7ea2897",
   "metadata": {},
   "outputs": [
    {
     "data": {
      "text/plain": [
       "508"
      ]
     },
     "execution_count": 22,
     "metadata": {},
     "output_type": "execute_result"
    }
   ],
   "source": [
    "df.iat[0,0]"
   ]
  },
  {
   "cell_type": "markdown",
   "id": "93969ed3",
   "metadata": {},
   "source": [
    "<p style=\";font-size:20px\">𝓓𝓪𝓽𝓪𝓕𝓻𝓪𝓶𝓮.<span style=\"color:#008000;font-size:20px\">𝓲𝓵𝓸𝓬</span></p>\n",
    "<p>Purely integer-location based indexing for selection by position.</p>\n",
    "<p><code><span>.iloc[]</span></code> is primarily integer position based (from <code><span>0</span></code> to\n",
    "<code><span>length-1</span></code> of the axis), but may also be used with a boolean array.</p>\n",
    "\n",
    "<p>Allowed inputs are:</p>\n",
    "<ul>\n",
    "<li><p>An integer, e.g. <code><span>5</span></code>.</p></li>\n",
    "<li><p>A list or array of integers, e.g. <code><span>[4,</span> <span>3,</span> <span>0]</span></code>.</p></li>\n",
    "<li><p>A slice object with ints, e.g. <code><span>1:7</span></code>.</p></li>\n",
    "<li><p>A boolean array.</p></li>\n",
    "<li><p>A <code><span>callable</span></code> function with one argument (the calling Series or\n",
    "DataFrame) and that returns valid output for indexing (one of the above).\n",
    "This is useful in method chains, when you don’t have a reference to the\n",
    "calling object, but would like to base your selection on some value.</p></li>\n",
    "</ul>\n",
    "\n",
    "<p><code><span>.iloc</span></code> will raise <code><span>IndexError</span></code> if a requested indexer is\n",
    "out-of-bounds, except <em>slice</em> indexers which allow out-of-bounds indexing (this conforms with python/numpy <em>slice</em> semantics).</p>"
   ]
  },
  {
   "cell_type": "code",
   "execution_count": 23,
   "id": "2e93525c",
   "metadata": {},
   "outputs": [
    {
     "data": {
      "text/html": [
       "<div>\n",
       "<style scoped>\n",
       "    .dataframe tbody tr th:only-of-type {\n",
       "        vertical-align: middle;\n",
       "    }\n",
       "\n",
       "    .dataframe tbody tr th {\n",
       "        vertical-align: top;\n",
       "    }\n",
       "\n",
       "    .dataframe thead th {\n",
       "        text-align: right;\n",
       "    }\n",
       "</style>\n",
       "<table border=\"1\" class=\"dataframe\">\n",
       "  <thead>\n",
       "    <tr style=\"text-align: right;\">\n",
       "      <th></th>\n",
       "      <th>clypeola</th>\n",
       "      <th>afflictively</th>\n",
       "      <th>quadrisyllabic</th>\n",
       "      <th>oscinian</th>\n",
       "      <th>eudaemonistic</th>\n",
       "      <th>proagricultural</th>\n",
       "      <th>missingly</th>\n",
       "      <th>becuiba</th>\n",
       "      <th>oxbane</th>\n",
       "      <th>undesirableness</th>\n",
       "    </tr>\n",
       "  </thead>\n",
       "  <tbody>\n",
       "    <tr>\n",
       "      <th>0</th>\n",
       "      <td>508</td>\n",
       "      <td>260</td>\n",
       "      <td>49</td>\n",
       "      <td>222</td>\n",
       "      <td>963</td>\n",
       "      <td>615</td>\n",
       "      <td>659</td>\n",
       "      <td>589</td>\n",
       "      <td>846</td>\n",
       "      <td>733</td>\n",
       "    </tr>\n",
       "    <tr>\n",
       "      <th>1</th>\n",
       "      <td>961</td>\n",
       "      <td>345</td>\n",
       "      <td>355</td>\n",
       "      <td>726</td>\n",
       "      <td>991</td>\n",
       "      <td>838</td>\n",
       "      <td>858</td>\n",
       "      <td>255</td>\n",
       "      <td>41</td>\n",
       "      <td>620</td>\n",
       "    </tr>\n",
       "    <tr>\n",
       "      <th>2</th>\n",
       "      <td>577</td>\n",
       "      <td>155</td>\n",
       "      <td>625</td>\n",
       "      <td>779</td>\n",
       "      <td>892</td>\n",
       "      <td>307</td>\n",
       "      <td>117</td>\n",
       "      <td>32</td>\n",
       "      <td>312</td>\n",
       "      <td>773</td>\n",
       "    </tr>\n",
       "    <tr>\n",
       "      <th>3</th>\n",
       "      <td>840</td>\n",
       "      <td>261</td>\n",
       "      <td>181</td>\n",
       "      <td>558</td>\n",
       "      <td>350</td>\n",
       "      <td>839</td>\n",
       "      <td>506</td>\n",
       "      <td>99</td>\n",
       "      <td>59</td>\n",
       "      <td>611</td>\n",
       "    </tr>\n",
       "    <tr>\n",
       "      <th>4</th>\n",
       "      <td>469</td>\n",
       "      <td>3</td>\n",
       "      <td>912</td>\n",
       "      <td>907</td>\n",
       "      <td>970</td>\n",
       "      <td>733</td>\n",
       "      <td>146</td>\n",
       "      <td>685</td>\n",
       "      <td>599</td>\n",
       "      <td>135</td>\n",
       "    </tr>\n",
       "    <tr>\n",
       "      <th>5</th>\n",
       "      <td>707</td>\n",
       "      <td>400</td>\n",
       "      <td>236</td>\n",
       "      <td>248</td>\n",
       "      <td>79</td>\n",
       "      <td>133</td>\n",
       "      <td>490</td>\n",
       "      <td>519</td>\n",
       "      <td>969</td>\n",
       "      <td>864</td>\n",
       "    </tr>\n",
       "    <tr>\n",
       "      <th>6</th>\n",
       "      <td>40</td>\n",
       "      <td>199</td>\n",
       "      <td>147</td>\n",
       "      <td>458</td>\n",
       "      <td>102</td>\n",
       "      <td>306</td>\n",
       "      <td>373</td>\n",
       "      <td>940</td>\n",
       "      <td>759</td>\n",
       "      <td>731</td>\n",
       "    </tr>\n",
       "    <tr>\n",
       "      <th>7</th>\n",
       "      <td>748</td>\n",
       "      <td>3</td>\n",
       "      <td>749</td>\n",
       "      <td>41</td>\n",
       "      <td>516</td>\n",
       "      <td>180</td>\n",
       "      <td>138</td>\n",
       "      <td>429</td>\n",
       "      <td>661</td>\n",
       "      <td>385</td>\n",
       "    </tr>\n",
       "    <tr>\n",
       "      <th>8</th>\n",
       "      <td>283</td>\n",
       "      <td>750</td>\n",
       "      <td>197</td>\n",
       "      <td>98</td>\n",
       "      <td>606</td>\n",
       "      <td>438</td>\n",
       "      <td>753</td>\n",
       "      <td>535</td>\n",
       "      <td>980</td>\n",
       "      <td>994</td>\n",
       "    </tr>\n",
       "    <tr>\n",
       "      <th>9</th>\n",
       "      <td>912</td>\n",
       "      <td>26</td>\n",
       "      <td>701</td>\n",
       "      <td>420</td>\n",
       "      <td>358</td>\n",
       "      <td>582</td>\n",
       "      <td>150</td>\n",
       "      <td>244</td>\n",
       "      <td>164</td>\n",
       "      <td>816</td>\n",
       "    </tr>\n",
       "  </tbody>\n",
       "</table>\n",
       "</div>"
      ],
      "text/plain": [
       "   clypeola  afflictively  quadrisyllabic  oscinian  eudaemonistic  \\\n",
       "0       508           260              49       222            963   \n",
       "1       961           345             355       726            991   \n",
       "2       577           155             625       779            892   \n",
       "3       840           261             181       558            350   \n",
       "4       469             3             912       907            970   \n",
       "5       707           400             236       248             79   \n",
       "6        40           199             147       458            102   \n",
       "7       748             3             749        41            516   \n",
       "8       283           750             197        98            606   \n",
       "9       912            26             701       420            358   \n",
       "\n",
       "   proagricultural  missingly  becuiba  oxbane  undesirableness  \n",
       "0              615        659      589     846              733  \n",
       "1              838        858      255      41              620  \n",
       "2              307        117       32     312              773  \n",
       "3              839        506       99      59              611  \n",
       "4              733        146      685     599              135  \n",
       "5              133        490      519     969              864  \n",
       "6              306        373      940     759              731  \n",
       "7              180        138      429     661              385  \n",
       "8              438        753      535     980              994  \n",
       "9              582        150      244     164              816  "
      ]
     },
     "execution_count": 23,
     "metadata": {},
     "output_type": "execute_result"
    }
   ],
   "source": [
    "df.iloc[0:,0:]"
   ]
  },
  {
   "cell_type": "markdown",
   "id": "6ed88d7b",
   "metadata": {},
   "source": [
    "<p style=\";font-size:20px\">𝓓𝓪𝓽𝓪𝓕𝓻𝓪𝓶𝓮.<span style=\"color:#008000;font-size:20px\">𝓲ndex</span></p>\n",
    "<p>The index (row labels) of the DataFrame.</p>"
   ]
  },
  {
   "cell_type": "code",
   "execution_count": 24,
   "id": "d0c77d84",
   "metadata": {},
   "outputs": [
    {
     "data": {
      "text/plain": [
       "RangeIndex(start=0, stop=10, step=1)"
      ]
     },
     "execution_count": 24,
     "metadata": {},
     "output_type": "execute_result"
    }
   ],
   "source": [
    "df.index"
   ]
  },
  {
   "cell_type": "markdown",
   "id": "7c411861",
   "metadata": {},
   "source": [
    "<p style=\";font-size:20px\">𝓓𝓪𝓽𝓪𝓕𝓻𝓪𝓶𝓮.<span style=\"color:#008000;font-size:20px\">𝓵𝓸𝓬</span></p>\n",
    "<p>Access a group of rows and columns by label(s) or a boolean array.</p>\n",
    "<p><code><span>.loc[]</span></code> is primarily label based, but may also be used with a boolean array.</p>\n",
    "\n",
    "<p>Allowed inputs are:</p>\n",
    "<ul>\n",
    "<li><p>A single label, e.g. <code><span>5</span></code> or <code><span>'a'</span></code>, (note that <code><span>5</span></code> is\n",
    "interpreted as a <em>label</em> of the index, and <strong>never</strong> as an\n",
    "integer position along the index).</p></li>\n",
    "<li><p>A list or array of labels, e.g. <code><span>['a',</span> <span>'b',</span> <span>'c']</span></code>.</p></li>\n",
    "<li><p>A slice object with labels, e.g. <code><span>'a':'f'</span></code>.</p>\n",
    "<div>\n",
    "<p>Warning</p>\n",
    "<p>Note that contrary to usual python slices, <strong>both</strong> the\n",
    "start and the stop are included</p>\n",
    "</div>\n",
    "</li>\n",
    "<li><p>A boolean array of the same length as the axis being sliced,\n",
    "e.g. <code><span>[True,</span> <span>False,</span> <span>True]</span></code>.</p></li>\n",
    "<li><p>An alignable boolean Series. The index of the key will be aligned before\n",
    "masking.</p></li>\n",
    "<li><p>An alignable Index. The Index of the returned selection will be the input.</p></li>\n",
    "<li><p>A <code><span>callable</span></code> function with one argument (the calling Series or\n",
    "DataFrame) and that returns valid output for indexing (one of the above)</p></li>\n",
    "</ul>"
   ]
  },
  {
   "cell_type": "code",
   "execution_count": 25,
   "id": "eaaf188c",
   "metadata": {},
   "outputs": [
    {
     "data": {
      "text/plain": [
       "clypeola           707\n",
       "afflictively       400\n",
       "quadrisyllabic     236\n",
       "oscinian           248\n",
       "eudaemonistic       79\n",
       "proagricultural    133\n",
       "missingly          490\n",
       "becuiba            519\n",
       "oxbane             969\n",
       "undesirableness    864\n",
       "Name: 5, dtype: int32"
      ]
     },
     "execution_count": 25,
     "metadata": {},
     "output_type": "execute_result"
    }
   ],
   "source": [
    "df.loc[5]\n"
   ]
  },
  {
   "cell_type": "markdown",
   "id": "30c84465",
   "metadata": {},
   "source": [
    "<p style=\";font-size:20px\">𝓓𝓪𝓽𝓪𝓕𝓻𝓪𝓶𝓮.<span style=\"color:#008000;font-size:20px\">𝓷𝓭𝓲𝓶</span></p>\n",
    "\n",
    "<p>Return an int representing the number of axes / array dimensions.</p>\n",
    "<p>Return 1 if Series. Otherwise return 2 if DataFrame.</p>"
   ]
  },
  {
   "cell_type": "code",
   "execution_count": 26,
   "id": "69657088",
   "metadata": {},
   "outputs": [
    {
     "data": {
      "text/plain": [
       "2"
      ]
     },
     "execution_count": 26,
     "metadata": {},
     "output_type": "execute_result"
    }
   ],
   "source": [
    "\n",
    "df.ndim\n"
   ]
  },
  {
   "cell_type": "markdown",
   "id": "db5ad928",
   "metadata": {},
   "source": [
    "<p style=\";font-size:20px\">𝓓𝓪𝓽𝓪𝓕𝓻𝓪𝓶𝓮.<span style=\"color:#008000;font-size:20px\">𝓼𝓱𝓪𝓹𝓮</span></p>\n",
    "<p>Return a tuple representing the dimensionality of the DataFrame.</p>"
   ]
  },
  {
   "cell_type": "code",
   "execution_count": 28,
   "id": "f00571ea",
   "metadata": {},
   "outputs": [
    {
     "data": {
      "text/plain": [
       "(10, 10)"
      ]
     },
     "execution_count": 28,
     "metadata": {},
     "output_type": "execute_result"
    }
   ],
   "source": [
    "df.shape"
   ]
  },
  {
   "cell_type": "markdown",
   "id": "c26c8d67",
   "metadata": {},
   "source": [
    "<p style=\";font-size:20px\">𝓓𝓪𝓽𝓪𝓕𝓻𝓪𝓶𝓮.<span style=\"color:#008000;font-size:20px\">𝓼𝓲𝔃𝓮</span></p>\n",
    "\n",
    "<p>Return an int representing the number of elements in this object.</p>\n",
    "<p>Return the number of rows if Series. Otherwise return the number of rows times number of columns if DataFrame.</p>"
   ]
  },
  {
   "cell_type": "code",
   "execution_count": 29,
   "id": "d42c489e",
   "metadata": {},
   "outputs": [
    {
     "data": {
      "text/plain": [
       "100"
      ]
     },
     "execution_count": 29,
     "metadata": {},
     "output_type": "execute_result"
    }
   ],
   "source": [
    "df.size"
   ]
  },
  {
   "cell_type": "markdown",
   "id": "48aeff63",
   "metadata": {},
   "source": [
    "<p style=\";font-size:20px\">𝓓𝓪𝓽𝓪𝓕𝓻𝓪𝓶𝓮.<span style=\"color:#008000;font-size:20px\">𝓿𝓪𝓵𝓾𝓮𝓼</span></p>\n",
    "<p>Return a Numpy representation of the DataFrame.</p>"
   ]
  },
  {
   "cell_type": "code",
   "execution_count": 30,
   "id": "1cf74ed4",
   "metadata": {},
   "outputs": [
    {
     "data": {
      "text/plain": [
       "array([[508, 260,  49, 222, 963, 615, 659, 589, 846, 733],\n",
       "       [961, 345, 355, 726, 991, 838, 858, 255,  41, 620],\n",
       "       [577, 155, 625, 779, 892, 307, 117,  32, 312, 773],\n",
       "       [840, 261, 181, 558, 350, 839, 506,  99,  59, 611],\n",
       "       [469,   3, 912, 907, 970, 733, 146, 685, 599, 135],\n",
       "       [707, 400, 236, 248,  79, 133, 490, 519, 969, 864],\n",
       "       [ 40, 199, 147, 458, 102, 306, 373, 940, 759, 731],\n",
       "       [748,   3, 749,  41, 516, 180, 138, 429, 661, 385],\n",
       "       [283, 750, 197,  98, 606, 438, 753, 535, 980, 994],\n",
       "       [912,  26, 701, 420, 358, 582, 150, 244, 164, 816]])"
      ]
     },
     "execution_count": 30,
     "metadata": {},
     "output_type": "execute_result"
    }
   ],
   "source": [
    "x=df.values\n",
    "x\n"
   ]
  },
  {
   "cell_type": "markdown",
   "id": "6a39670b",
   "metadata": {},
   "source": [
    "<H2><span style=\"color:blue\">Read</span> and <span style=\"color:green\">Write.</span> Tabular data</H2>\n",
    "<p>pandas supports the integration with many file formats or data sources out of the box (csv, excel, sql, json, parquet,…). Importing data from each of these\n",
    "data sources is provided by function with the prefix <code class=\"docutils literal notranslate\"><span class=\"pre\">read_*</span></code>. Similarly, the <code class=\"docutils literal notranslate\"><span class=\"pre\">to_*</span></code> methods are used to store data.</p>\n",
    "\n",
    "<img alt=\"../_images/02_io_readwrite.svg\" class=\"align-center\" src=\"https://pandas.pydata.org/pandas-docs/stable/_images/02_io_readwrite.svg\">"
   ]
  }
 ],
 "metadata": {
  "kernelspec": {
   "display_name": "Python 3 (ipykernel)",
   "language": "python",
   "name": "python3"
  },
  "language_info": {
   "codemirror_mode": {
    "name": "ipython",
    "version": 3
   },
   "file_extension": ".py",
   "mimetype": "text/x-python",
   "name": "python",
   "nbconvert_exporter": "python",
   "pygments_lexer": "ipython3",
   "version": "3.9.7"
  }
 },
 "nbformat": 4,
 "nbformat_minor": 5
}
